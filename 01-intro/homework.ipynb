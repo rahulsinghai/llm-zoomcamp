{
 "cells": [
  {
   "cell_type": "code",
   "execution_count": 1,
   "id": "665a1781-c914-4d5e-a79f-1e866f9905d9",
   "metadata": {},
   "outputs": [],
   "source": [
    "import openai\n",
    "import os\n",
    "import sys\n",
    "from openai import OpenAI"
   ]
  },
  {
   "cell_type": "code",
   "execution_count": 2,
   "id": "c3cef984-1df7-47b7-845c-67c2be46c3b5",
   "metadata": {},
   "outputs": [],
   "source": [
    "# client = OpenAI(api_key=\"...\")\n",
    "# os.environ\n",
    "client = OpenAI()"
   ]
  },
  {
   "cell_type": "code",
   "execution_count": 5,
   "id": "3ebcd52d-feb5-4afc-861a-52cf5ac1a794",
   "metadata": {},
   "outputs": [
    {
     "data": {
      "text/plain": [
       "\"As of my knowledge cutoff date in October 2023, I don't have specific details about the enrollment timeline for the DataTalk LLMZoomCamp 2025 cohort. To find out whether it's too late to join the 2025 course, I recommend checking the official DataTalk website or contacting their support team directly for the most accurate and up-to-date information. They should be able to provide details on registration deadlines and any potential late enrollment options.\""
      ]
     },
     "execution_count": 5,
     "metadata": {},
     "output_type": "execute_result"
    }
   ],
   "source": [
    "response = client.chat.completions.create(\n",
    "    model='gpt-4o',\n",
    "    messages=[{'role': 'user', 'content': 'is it too late to join the DataTalk LLMZoomCamp 2025 cohort course?'}]\n",
    ")\n",
    "response.choices[0].message.content"
   ]
  }
 ],
 "metadata": {
  "kernelspec": {
   "display_name": "Python 3 (ipykernel)",
   "language": "python",
   "name": "python3"
  },
  "language_info": {
   "codemirror_mode": {
    "name": "ipython",
    "version": 3
   },
   "file_extension": ".py",
   "mimetype": "text/x-python",
   "name": "python",
   "nbconvert_exporter": "python",
   "pygments_lexer": "ipython3",
   "version": "3.12.1"
  }
 },
 "nbformat": 4,
 "nbformat_minor": 5
}
